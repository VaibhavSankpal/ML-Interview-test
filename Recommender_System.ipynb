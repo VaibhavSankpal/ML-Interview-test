{
 "cells": [
  {
   "cell_type": "code",
   "execution_count": null,
   "metadata": {},
   "outputs": [],
   "source": [
    "\n",
    "# Importing training json data to pandas \n",
    "\n",
    "import json\n",
    "from pprint import pprint\n",
    "import pandas as pd\n",
    "\n",
    "with open('training_mixpanel.txt') as f:\n",
    "    data = json.load(f)\n",
    "\n",
    "for result in data:\n",
    "    # Separating the attributes like [invoice_no, product_id, ...] from properties attribute of json file.\n",
    "    result[u'invoice_no']=result[u'properties'][u'invoice_no'] \n",
    "    result[u'product_id']=result[u'properties'][u'product_id']\n",
    "    result[u'description']=result[u'properties'][u'description']\n",
    "    result[u'quantity']=result[u'properties'][u'quantity']\n",
    "    result[u'unit_price']=result[u'properties'][u'unit_price']\n",
    "    result[u'customer_id']=result[u'properties'][u'customer_id']\n",
    "    result[u'country']=result[u'properties'][u'country']\n",
    "    del result[u'properties']  # deleting the [properties] attribute in the json\n",
    "\n",
    "purchase_history = json.dumps(data)\n",
    "\n",
    "pd.read_json(purchase_history)"
   ]
  },
  {
   "cell_type": "code",
   "execution_count": null,
   "metadata": {},
   "outputs": [],
   "source": [
    "## Confirming the Event types available\n",
    "df = pd.DataFrame(data)\n",
    "df.event.unique()   "
   ]
  },
  {
   "cell_type": "code",
   "execution_count": null,
   "metadata": {},
   "outputs": [],
   "source": []
  }
 ],
 "metadata": {
  "kernelspec": {
   "display_name": "Python 3",
   "language": "python",
   "name": "python3"
  },
  "language_info": {
   "codemirror_mode": {
    "name": "ipython",
    "version": 3
   },
   "file_extension": ".py",
   "mimetype": "text/x-python",
   "name": "python",
   "nbconvert_exporter": "python",
   "pygments_lexer": "ipython3",
   "version": "3.6.5"
  }
 },
 "nbformat": 4,
 "nbformat_minor": 2
}
